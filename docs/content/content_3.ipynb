{
 "cells": [
  {
   "cell_type": "markdown",
   "metadata": {},
   "source": [
    "# How does SIMIO generates the observations?\n",
    "\n",
    "## Templates are the base of SIMIO\n",
    "\n",
    "Instead of creating a new observation from scratch, *SIMIO* takes existing observations and replaces the data with the visibilities of a given model. By doing so, the synthetic observation of the input model will have the same visibility coverage as the template. In practice, the model is positioned in the sky at the exact coordinates of the template observation.\n",
    "\n",
    "\n",
    "## Generating a synthetic observation\n",
    "\n",
    "The steps to replace the template visibilities with the input model visibilities are as follows:\n",
    "\n",
    "1) **A SIMIO object is created**: The class *simio_object* sets all the necessary details for the synthetic observation. The object will get all the technical details of the selected template, and other observable parameters will be set too, such as geometry modifications, the distance of the observation, and observed flux. The tutorial section contains examples of how to modify those values when defining a *simio_object*.\n",
    "\n",
    "2) **Generate synthetic observation**: A synthetic observation is created based on the template chosen for the *simio_object*. The workflow is shown in **Figure 1**, and it goes as follows:\n",
    "\n",
    "   2a) An empty image is created with *tclean* using the template's information and with the same pixel size and image size as the input model. The input model values are copied into this empty image, which has the CASA format of an *image.model*.\n",
    "\n",
    "   2b) If a geometry change is needed, the *uv-points* of the template will be projected with the requested inclination and position angle. The Fourier Transform will be calculated over this new set of uv-points, thus avoiding modifying the image to apply a geometry modification. After that, the *uv-points* are deprojected with the same inclination and position angle, returning to their original position, but effectively having measured the Fourier Transform of the *image.model* in the projected space.\n",
    "\n",
    "   2c) The Fourier transform of the *image.model* is written into the synthetic observation, which is identical to the template observation except for the visibility data. Each spectral window is written separately."
   ]
  },
  {
   "cell_type": "markdown",
   "metadata": {},
   "source": [
    "<img src=\"./simio_workflow.png\">\n",
    "<center> Figure 1: Steps followed by SIMIO to go from the input image to the synthetic observation. Instead of modifying the image geometry, the uv-points are projected/deprojected before and after the Fourier Transform calculation. </center>"
   ]
  },
  {
   "cell_type": "markdown",
   "metadata": {},
   "source": [
    "## Imaging a synthetic observation\n",
    "\n",
    "The image reconstruction of the synthetic observation can be done within *SIMIO* using the function *easy_mod_tclean*. This function is designed so people unfamiliar with CASA or ALMA data can generate their own images as easily as possible. Just tell *easy_mod_tclean* what *simio_object* will be imaged, set a stopping threshold if needed, and get the images done."
   ]
  }
 ],
 "metadata": {
  "kernelspec": {
   "display_name": "Python 3",
   "language": "python",
   "name": "python3"
  },
  "language_info": {
   "codemirror_mode": {
    "name": "ipython",
    "version": 3
   },
   "file_extension": ".py",
   "mimetype": "text/x-python",
   "name": "python",
   "nbconvert_exporter": "python",
   "pygments_lexer": "ipython3",
   "version": "3.7.3"
  }
 },
 "nbformat": 4,
 "nbformat_minor": 4
}
