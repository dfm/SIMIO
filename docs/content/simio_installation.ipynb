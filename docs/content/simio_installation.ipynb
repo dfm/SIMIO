{
 "cells": [
  {
   "cell_type": "markdown",
   "metadata": {},
   "source": [
    "# Installation\n",
    "\n",
    "**Requirements: Common Astronomy Software Applications ([*CASA*](https://casa.nrao.edu/))**, any version below 6.X.\n",
    "\n",
    "*SIMIO* has to be executed from the [*CASA*](https://casa.nrao.edu/) terminal, therefore you need to install a *CASA*. *SIMIO* works in any *CASA* version below 6.0, althoug the most recommended versions are *CASA 5.4.X* or *CASA 5.6.X*.\n",
    "\n",
    "*SIMIO* comes in a self-contained folder, and after installing *CASA*, no further installation of any package is needed. To use the *SIMIO* functions, execute the *CASA* software from the *SIMIO* folder, and then execute the *SIMIO* codes in the *CASA* terminal.\n",
    "\n",
    "Check the download section of *SIMIO* in this [page](https://www.nicolaskurtovic.com/simio/download-simio), or download it from the git-hub [page](https://github.com/nicokurtovic/SIMIO). Once you have *SIMIO* in your computer, check [tutorial 1](https://simio-continuum.readthedocs.io/en/latest/tutorials/tutorial_1.html) for step by step instructions of how to use it."
   ]
  },
  {
   "cell_type": "markdown",
   "metadata": {},
   "source": [
    "## Download the package\n",
    "\n",
    "[Download](https://www.nicolaskurtovic.com/simio/download-simio) the *SIMIO-continuum* package (from now on, referred to as *SIMIO*), and open the *SIMIO* folder. You will see the following:\n",
    "\n",
    "- **codes**: Where the functions and wrappers are located.\n",
    "\n",
    "- **plots**: After creating your synthetic observation, you can use the functions within this folder to generate figures and radial profiles. Check these codes if you do not have experience with fits files.\n",
    "\n",
    "- **projects**: Store your projects in this folder.\n",
    "\n",
    "- **templates**: Store your templates in this folder.\n",
    "\n",
    "- **casa_examples**: Example codes to run *SIMIO* are stored in this folder.\n",
    "\n",
    "- **simio_casa.py**: Example code to use *SIMIO*. Any *SIMIO* code should be run from this location (*~/path_to_simio/simio/*)."
   ]
  },
  {
   "cell_type": "markdown",
   "metadata": {},
   "source": [
    "<img src=\"./step1_web.png\">"
   ]
  },
  {
   "cell_type": "markdown",
   "metadata": {},
   "source": [
    "## Install a template\n",
    "\n",
    "Each template is an archival ALMA observation adapted to run with *SIMIO*. By selecting a template, you will match the same uv-coverage, exposure time, position of the object in the sky, frequency bandwidth, and all the technical parameters of such observation.\n",
    "\n",
    "You can download all the publicly available templates from this [page](https://www.nicolaskurtovic.com/simio/templates). Move your template into the **templates/** folder, such as the next example showing the HD163296 template."
   ]
  },
  {
   "cell_type": "markdown",
   "metadata": {},
   "source": [
    "<img src=\"./step2_web.png\">"
   ]
  }
 ],
 "metadata": {
  "kernelspec": {
   "display_name": "Python 3",
   "language": "python",
   "name": "python3"
  },
  "language_info": {
   "codemirror_mode": {
    "name": "ipython",
    "version": 3
   },
   "file_extension": ".py",
   "mimetype": "text/x-python",
   "name": "python",
   "nbconvert_exporter": "python",
   "pygments_lexer": "ipython3",
   "version": "3.7.3"
  }
 },
 "nbformat": 4,
 "nbformat_minor": 4
}
