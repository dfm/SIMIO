{
 "cells": [
  {
   "cell_type": "markdown",
   "metadata": {},
   "source": [
    "# Installation\n",
    "\n",
    "*SIMIO* comes in a self-contained folder, and no further installation is needed. To use the *SIMIO* functions you need to execute the *CASA* software from the *SIMIO* folder, and execute the *SIMIO* codes in the *CASA* terminal.\n",
    "\n",
    "Check the download section of SIMIO in this [page](https://www.nicolaskurtovic.com/simio/download-simio), or download it from the git-hub [page](https://github.com/nicokurtovic/SIMIO). Once you have SIMIO in your computer, check [tutorial 1](https://simio-continuum.readthedocs.io/en/latest/tutorials/tutorial_1.html) for step by step instructions of how to use it."
   ]
  }
 ],
 "metadata": {
  "kernelspec": {
   "display_name": "Python 3",
   "language": "python",
   "name": "python3"
  },
  "language_info": {
   "codemirror_mode": {
    "name": "ipython",
    "version": 3
   },
   "file_extension": ".py",
   "mimetype": "text/x-python",
   "name": "python",
   "nbconvert_exporter": "python",
   "pygments_lexer": "ipython3",
   "version": "3.7.3"
  }
 },
 "nbformat": 4,
 "nbformat_minor": 4
}
