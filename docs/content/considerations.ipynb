{
 "cells": [
  {
   "cell_type": "markdown",
   "metadata": {},
   "source": [
    "# Considerations\n",
    "\n",
    "## Input image details\n",
    "\n",
    "For a discussion about the input image size and the assumptions for a correct Fourier Transform calculation, we refer you to [Tazzari et al. (2018)](https://ui.adsabs.harvard.edu/abs/2018MNRAS.476.4527T/abstract). In short, smaller pixel size and larger image size are always better. For each template, aim to have a pixel size about $\\times6\\sim10$ times smaller than the angular resolution, and image sizes larger than $\\times6\\sim10''$. For optimal results, generate a different image to generate observations at different distances."
   ]
  },
  {
   "cell_type": "markdown",
   "metadata": {},
   "source": [
    "## CASA Warnings\n",
    "\n",
    "CASA will write several warnings in the terminal while executing SIMIO. You can ignore them if they are included in the following list:"
   ]
  },
  {
   "cell_type": "markdown",
   "metadata": {},
   "source": [
    "**Leap Second**: This ```SEVERE``` warning does not affect the results of the package, unless you are working with VLBI or extremelly high time precision data. Please check this [page](https://casaguides.nrao.edu/index.php/Fixing_out_of_date_TAI_UTC_tables_(missing_information_on_leap_seconds))."
   ]
  },
  {
   "cell_type": "markdown",
   "metadata": {},
   "source": [
    "```python\n",
    "# SEVERE\tMeasTable::dUTC(Double) (file ../../measures/Measures/MeasTable.cc, line 4290)\tLeap second table TAI_UTC seems out-of-date. Until the table is updated (see the CASA documentation or your system admin), times and coordinates derived from UTC could be wrong by 1s or more.\n",
    "```"
   ]
  },
  {
   "cell_type": "markdown",
   "metadata": {},
   "source": [
    "**Non optimal architecture for synthetic measurement sets**: As the templates are a combination of several observations, different spectral windows of the measurement sets have different frequency coverage and number of scans. Therefore, the Fourier Transform of the input model is calculated for each one separately (using the function split). The final measurement set is a concatenation of all the single spectral windows, and this ```WARN``` will appear every time a new spectral window is concatenated.\n",
    "\n",
    "The issue of a non optimal architecture for the synthetic observation will have no impact on the visibilities or the imaging products. A future version of SIMIO-continuum will explore a more efficient procedure to concatenate the synthetic observation."
   ]
  },
  {
   "cell_type": "markdown",
   "metadata": {},
   "source": [
    "```python\n",
    "# WARN\tMSConcat::concatenate (file ../../ms/MSOper/MSConcat.cc, line 825)\tZero or negative scan numbers in MS. May lead to duplicate scan numbers in concatenated MS.\n",
    "```"
   ]
  }
 ],
 "metadata": {
  "kernelspec": {
   "display_name": "Python 3",
   "language": "python",
   "name": "python3"
  },
  "language_info": {
   "codemirror_mode": {
    "name": "ipython",
    "version": 3
   },
   "file_extension": ".py",
   "mimetype": "text/x-python",
   "name": "python",
   "nbconvert_exporter": "python",
   "pygments_lexer": "ipython3",
   "version": "3.7.3"
  }
 },
 "nbformat": 4,
 "nbformat_minor": 4
}
