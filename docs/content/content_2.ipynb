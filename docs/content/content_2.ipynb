{
 "cells": [
  {
   "cell_type": "markdown",
   "metadata": {},
   "source": [
    "# Simulating with simobserve vs SIMIO\n",
    "\n",
    "The CASA software, which supports the ALMA observations, already has a built-in function to generate simulated observation starting form a intensity distribution image, called simobserve. Even though simobserve works very well when you need to test a particular observational setup, it can be very challenging to use it to compare with existing observations, as you need to manually match every single detail of an observation in order to obtain the exact same uv-coverage: The same number and position of antennas, time on source, position of the source in the sky, time of observation, frequency coverage, etc.\n",
    "\n",
    "Setting all the observational details manually in **simobserve is useful when you want to generate a non existing observation**, and test if such setup is useful or not to recover your scientific case. However, if you are trying to compare to an existing observation, all those technical details are already stored in the observation itself. ***SIMIO-continuum* is an alternative to simobserve** when you need to compare to an observation that already exists (from now on, just referred as *SIMIO*).\n",
    "\n",
    "***SIMIO* takes an existing observation and then replaces the visibility data of the template with the visibilities of your input image**. The Fourier Transform used in *SIMIO* is the same as CASA, and so it is as robust as simobserve, and you do not need to worry about matching all the technical details of a particular observation. They are matched perfectly, as we are using the observation itself. After your observation is generated, you can image it with any algorithm you want."
   ]
  }
 ],
 "metadata": {
  "kernelspec": {
   "display_name": "Python 3",
   "language": "python",
   "name": "python3"
  },
  "language_info": {
   "codemirror_mode": {
    "name": "ipython",
    "version": 3
   },
   "file_extension": ".py",
   "mimetype": "text/x-python",
   "name": "python",
   "nbconvert_exporter": "python",
   "pygments_lexer": "ipython3",
   "version": "3.7.3"
  }
 },
 "nbformat": 4,
 "nbformat_minor": 4
}
