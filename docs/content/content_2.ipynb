{
 "cells": [
  {
   "cell_type": "markdown",
   "metadata": {},
   "source": [
    "# Simulating with simobserve vs. SIMIO\n",
    "\n",
    "The CASA software, which supports the ALMA observations, already has a built-in function to generate simulated observations starting from an intensity distribution image, called simobserve. Even though simobserve works very well to test a particular observational setup, it can be very challenging to use it to compare with existing observations, as every single detail of an observation needs to be matched in order to obtain the same uv-coverage: The exact number and position of antennas, time on source, position of the source in the sky, time of observation, frequency coverage, and others.\n",
    "\n",
    "Setting all the observational details manually in **simobserve is useful when the science goal has to be tested in an observation that has never been done before**. However, if the goal is to compare with an existing observation, manually setting all the details can be tedious, especially considering that the observation datasets already store all those technical properties. **SIMIO-continuum is an alternative to simobserve** to compare models with existing observations.\n",
    "\n",
    "**SIMIO takes an existing observation and then replaces the visibility data of the template with the visibilities of the input image**. The Fourier Transform used in *SIMIO* is the same as CASA, so it is as robust as simobserve. The technical details are matched perfectly between synthetic and archival observation, and the newly generated synthetic dataset can be imaged with any algorithm."
   ]
  }
 ],
 "metadata": {
  "kernelspec": {
   "display_name": "Python 3",
   "language": "python",
   "name": "python3"
  },
  "language_info": {
   "codemirror_mode": {
    "name": "ipython",
    "version": 3
   },
   "file_extension": ".py",
   "mimetype": "text/x-python",
   "name": "python",
   "nbconvert_exporter": "python",
   "pygments_lexer": "ipython3",
   "version": "3.7.3"
  }
 },
 "nbformat": 4,
 "nbformat_minor": 4
}
