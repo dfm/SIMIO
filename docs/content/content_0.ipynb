{
 "cells": [
  {
   "cell_type": "markdown",
   "metadata": {},
   "source": [
    "# SIMIO-continuum\n",
    "\n",
    "## What is SIMIO-continuum?\n",
    "\n",
    "*SIMIO-continuum* is a collection of functions and wrappers for CASA 5.6.2, designed to **take a synthetic image** representing a sky intensity distribution in millimeter and sub-millimeter wavelengths (such as a radiative transfer image from RADMC3D) and **return the synthetic ALMA observation** based on an existing dataset. By using an existing observation as a template, *SIMIO* keeps all the technical properties (number of antennas, time of observation, sky coordinates) and replaces the observed data with the visibilities of the synthetic image.\n",
    "\n",
    "As the technical setup between the template and synthetic observation is the same, *SIMIO* allows for direct comparison. Therefore, with *SIMIO* we can answer the question:"
   ]
  },
  {
   "cell_type": "markdown",
   "metadata": {},
   "source": [
    "<div align=\"center\"><b> How would a synthetic model have looked if an existing ALMA observation had observed it? </b></div>"
   ]
  },
  {
   "cell_type": "markdown",
   "metadata": {},
   "source": [
    "*SIMIO* was designed to compare synthetic models to ALMA observations of planet-forming disks. Nevertheless, the package works for any combination of synthetic model and ALMA continuum observations. *SIMIO* supports single synthetic images representing the intensity distribution of continuum emission. Dust polarization models or variable intensity as a function of frequency are not yet supported.\n",
    "\n",
    "**SIMIO is an alternative to generate synthetic observations that is as easy to use as convolving an image with a Gaussian beam but as robust as using a simulator tool like** [simobserve](https://casadocs.readthedocs.io/en/latest/notebooks/simulation.html#). This way, astronomers with little or no observational background can use it to generate their synthetic observations (see why going visibility based is more robust). Even though *SIMIO* can be used for non-ALMA experts, it also returns all the possible data products from a continuum observation, so experienced observers can also take them and analyze them with their own tools."
   ]
  },
  {
   "cell_type": "markdown",
   "metadata": {},
   "source": [
    "## Compare directly to any ALMA observation:\n",
    "\n",
    "SIMIO has several templates that you can use for your synthetic observation, and you can also add templates of existing ALMA observations by yourself. Each template will contain an archival observation of a planet-forming disk and the information about the source, to enable direct comparison if needed.\n",
    "\n",
    "By default, SIMIO will take your synthetic image and calculate its visibilities as if your disk model had the same geometry (inclination and position angle) and the same distance of the template. The geometry and the source's distance can be modified (see tutorials 3 and 4). You can also disable the geometry modification, and input your radiative transfer image with the desired geometry (see tutorial 2).\n",
    "\n",
    "SIMIO generates the measurement set of the synthetic observation, but it can also generate further products such as:\n",
    "- Measurement Set (ms file).\n",
    "- Images in fits format (Beam convolved, PSF, model, residuals).\n",
    "- Visibility tables in .txt format.\n",
    "- Additional data figures, comparing your source to the template.\n",
    "\n",
    "An example of how the young Solar System would have looked if DSHARP had observed it as HD163296 is shown in **Figure 1**, and also explained in tutorial 1."
   ]
  },
  {
   "cell_type": "markdown",
   "metadata": {},
   "source": [
    "<img src=\"./SolarS_HD163296_comparison.png\">"
   ]
  }
 ],
 "metadata": {
  "kernelspec": {
   "display_name": "Python 3",
   "language": "python",
   "name": "python3"
  },
  "language_info": {
   "codemirror_mode": {
    "name": "ipython",
    "version": 3
   },
   "file_extension": ".py",
   "mimetype": "text/x-python",
   "name": "python",
   "nbconvert_exporter": "python",
   "pygments_lexer": "ipython3",
   "version": "3.7.3"
  }
 },
 "nbformat": 4,
 "nbformat_minor": 4
}
