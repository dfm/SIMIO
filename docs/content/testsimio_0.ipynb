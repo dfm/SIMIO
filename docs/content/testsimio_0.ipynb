{
 "cells": [
  {
   "cell_type": "markdown",
   "metadata": {},
   "source": [
    "# Test if SIMIO is working correctly\n",
    "\n",
    "**This test uses data from** [tutorial 1](https://simio-continuum.readthedocs.io/index.html#document-tutorials/tutorial_1) **, which you can download from** [here](https://keeper.mpdl.mpg.de/d/7fe6524c7ec945168630/)\n",
    "\n",
    "If you customize your SIMIO functions and you want to test if your modifications have affected the code, there are two major properties you should check: **Flux conservation** from the input model and **size scaling** as a function of distance. Let us use the Solar System from [Bergez-Casalou et al. 2022](https://ui.adsabs.harvard.edu/abs/2022A%26A...659A...6B/abstract) as the testing case for SIMIO functionalities. "
   ]
  },
  {
   "cell_type": "markdown",
   "metadata": {},
   "source": [
    "<img src=\"./SolarS_original.png\">\n",
    "<center> Figure 1: The 1.3mm continuum emission from the young Solar System as simulated by Bergez-Casalou et al. 2022. </center>"
   ]
  },
  {
   "cell_type": "markdown",
   "metadata": {},
   "source": [
    "## Flux conservation\n",
    "\n",
    "SIMIO takes the input image and translates it to a \"*.model*\" image of CASA, before calculating the Fourier Transform with *ft*. During this translation the image is copied and flux-scaled following the inverse square law.\n",
    "\n",
    "Let us test if this translation worked correctly. The original young Solar System model has a flux of **427.591784Jy** when positioned at 1pc, which is the default distance from RADMC3D outputs and is the assumed distance for the input models of SIMIO (when the flux is not overriden, see [tutorial 5](https://simio-continuum.readthedocs.io/index.html#document-tutorials/tutorial_5)). Let us generate the synthetic observation at the distance of HD163296, which is 100.966pc from [GAIA DR3](https://gea.esac.esa.int/archive/). At such distance, we expect a flux of:\n",
    "\n",
    "$$\n",
    "  \\frac{427.591784 \\,\\text{Jy}}{100.966^2} = 0.041944 \\,\\text{Jy} = 41.944 \\,\\text{mJy}\n",
    "$$"
   ]
  },
  {
   "cell_type": "markdown",
   "metadata": {},
   "source": [
    "```python\n",
    "# Import needed python packages\n",
    "import sys\n",
    "import os\n",
    "import numpy as np\n",
    "import matplotlib.pyplot as plt\n",
    "\n",
    "# Get the current directory path\n",
    "current_dir = os.getcwd()+'/'\n",
    "\n",
    "####################################\n",
    "\n",
    "# Import the analysis utils functions\n",
    "sys.path.append(current_dir+'codes/analysis_scripts/')\n",
    "import analysisUtils as au\n",
    "\n",
    "# Import the simio object\n",
    "execfile(current_dir+'codes/simio_obj.py')\n",
    "# Import functions for uv-handling\n",
    "execfile(current_dir+'codes/simio_ms2ascii.py')\n",
    "# Import functions for imaging\n",
    "execfile(current_dir+'codes/simio_clean.py')\n",
    "\n",
    "###########################\n",
    "# Solar System as HD163296\n",
    "###########################\n",
    "\n",
    "# Create a simio object.\n",
    "simobj = simio_object(object_name  = 'SolarS_HD163296', \n",
    "                      im_file_name = 'image_1300micron.out', \n",
    "                      template     = 'HD163296', \n",
    "                      use_tempgeom = True)\n",
    "\n",
    "# Create the measurement file of your simio object\n",
    "mod_ms = get_mod_ms_ft(simobj)\n",
    "```"
   ]
  },
  {
   "cell_type": "markdown",
   "metadata": {},
   "source": [
    "To generate *mod_ms*, *SIMIO* generated an image called \"***SolarS_HD163296_orig_model_im.fits***\". The visibilities are calculated from this image. Let us use *python* to read the image and calculate the flux."
   ]
  },
  {
   "cell_type": "markdown",
   "metadata": {},
   "source": [
    "```python\n",
    "# Import astropy.io.fits to read the image in python\n",
    "from astropy.io import fits\n",
    "\n",
    "# Path to the image\n",
    "model_path = 'projects/SolarS_HD163296/images/SolarS_HD163296_orig_model_im.fits'\n",
    "# Open image\n",
    "model_im  = fits.open(model_path)[0].data\n",
    "\n",
    "# Calculate flux\n",
    "print (np.sum(model_im))\n",
    "\n",
    "# 0.04194438763274089\n",
    "```"
   ]
  },
  {
   "cell_type": "markdown",
   "metadata": {},
   "source": [
    "This value matches the expected value from the inverse square law. As the Fourier Transform is calculated from this image, we confirm that distance correction conserved the flux. Always check the ***project_orig_model_im.fits*** for this test."
   ]
  },
  {
   "cell_type": "markdown",
   "metadata": {},
   "source": [
    "## Distance scaling\n",
    "\n",
    "The same image from the previous part will be used to check distance scaling. The original young Solar System image has 800 pixels and 0.4au of pixel size, therefore the whole image is 320au in length. Let us check the translated image:"
   ]
  },
  {
   "cell_type": "markdown",
   "metadata": {},
   "source": [
    "```python\n",
    "# Import astropy.io.fits to read the image in python\n",
    "from astropy.io import fits\n",
    "\n",
    "# Distance to HD163296\n",
    "parallax = 9.90426503087695 # GAIA EDR3 mas\n",
    "dist     = 1000. / parallax # pc\n",
    "# Size of the input image\n",
    "imsize_input = 320.\n",
    "\n",
    "# Path to the image\n",
    "model_path = 'projects/SolarS_HD163296/images/SolarS_HD163296_orig_model_im.fits'\n",
    "# Read header\n",
    "header  = fits.open(dir_cont)[0].header\n",
    "# Calculate image size in arcsec\n",
    "ra_ext  = 3600. * header_cont['CDELT1'] * header_cont['NAXIS1']\n",
    "dec_ext = 3600. * header_cont['CDELT2'] * header_cont['NAXIS2']\n",
    "\n",
    "# Calculate image size in au\n",
    "imsize_au = dec_ext * dist\n",
    "print (dec_ext * dist)\n",
    "# 320.0045547174389\n",
    "\n",
    "# Compare to real image size\n",
    "ratio_im = dec_ext * dist / imsize_input # 320 is the size in au of the input image\n",
    "print (ratio_im)\n",
    "# 1.0000142334919966\n",
    "```"
   ]
  },
  {
   "cell_type": "markdown",
   "metadata": {},
   "source": [
    "The difference between the input image size and the model image is of the order of $10^{-5}$ in ratio, and it probably comes from the numerical systematics of transforming the pixel size in radians contained in ```header_cont['CDELT1']``` to arcsec units and then to astronomical units. This way, you can test the distance scaling of your input model."
   ]
  }
 ],
 "metadata": {
  "kernelspec": {
   "display_name": "Python 3",
   "language": "python",
   "name": "python3"
  },
  "language_info": {
   "codemirror_mode": {
    "name": "ipython",
    "version": 3
   },
   "file_extension": ".py",
   "mimetype": "text/x-python",
   "name": "python",
   "nbconvert_exporter": "python",
   "pygments_lexer": "ipython3",
   "version": "3.7.3"
  }
 },
 "nbformat": 4,
 "nbformat_minor": 4
}
