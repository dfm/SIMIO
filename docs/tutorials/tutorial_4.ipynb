{
 "cells": [
  {
   "cell_type": "markdown",
   "metadata": {},
   "source": [
    "# Tutorial 4: Change the distance of your source"
   ]
  },
  {
   "cell_type": "markdown",
   "metadata": {},
   "source": [
    "It is very important to test how far away can a feature be observed with a certain angular resolution. In the tutorial 1, we tested how the synthetic Solar System would have looked like if it had been observed at the same distance of HD163296 (101pc from GAIA DR3). At such distance, the disk is observed with a cavity and a single ring.\n",
    "\n",
    "How far away can we place the Solar System before we stop detecting the cavity? Or more generally: How far away can your disk be from Earth before a feature of your model is no longer detectable?"
   ]
  },
  {
   "cell_type": "markdown",
   "metadata": {},
   "source": [
    "## Changing the distance of your observation\n",
    "\n",
    "Radiative transfer models are usually calculated as if the object was at 1pc of distance. Inside the SIMIO functions, the flux from your model is scaled following the inverse square law, and this is done with the distance of the chosen template.\n",
    "\n",
    "It could be the case that you want to test your substructure recovery at a specific distance, not necesarily the distance of the template. For example, let us choose HD163296 as a representative high angular resolution observation, and let us test how the Solar System would look with this observational setup if it was at different distances from Earth.\n",
    "\n",
    "Let us begin by calling SIMIO."
   ]
  },
  {
   "cell_type": "markdown",
   "metadata": {},
   "source": [
    "```python\n",
    "# Import needed python packages\n",
    "import sys\n",
    "import os\n",
    "import numpy as np\n",
    "import matplotlib.pyplot as plt\n",
    "\n",
    "# Get the current directory path\n",
    "current_dir = os.getcwd()+'/'\n",
    "\n",
    "####################################\n",
    "\n",
    "# Import the analysis utils functions\n",
    "sys.path.append(current_dir+'codes/analysis_scripts/')\n",
    "import analysisUtils as au\n",
    "\n",
    "# Import the simio object\n",
    "execfile(current_dir+'codes/simio_obj.py')\n",
    "# Import functions for uv-handling\n",
    "execfile(current_dir+'codes/simio_ms2ascii.py')\n",
    "# Import functions for imaging\n",
    "execfile(current_dir+'codes/simio_clean.py')\n",
    "\n",
    "```"
   ]
  },
  {
   "cell_type": "markdown",
   "metadata": {},
   "source": [
    "and now let us create the *simobj* with a specific distance"
   ]
  },
  {
   "cell_type": "markdown",
   "metadata": {},
   "source": [
    "```python\n",
    "# Create a simio object.\n",
    "simobj = simio_object(object_name  = 'SolarS_100pc', \n",
    "                      im_file_name = 'image_1300micron.out', \n",
    "                      template     = 'HD163296', \n",
    "                      use_tempgeom = False, \n",
    "                      distance=100.)\n",
    "```"
   ]
  },
  {
   "cell_type": "markdown",
   "metadata": {},
   "source": [
    "Here, we specified that we do not want to use the template geometry, cause we would like to see the Solar System in a face-on configuration, and the distance must be input in float format with pc unit. In this example, we chose 100pc as distance.\n",
    "\n",
    "After that, just run the *SIMIO* noise function, and imaging function."
   ]
  },
  {
   "cell_type": "markdown",
   "metadata": {},
   "source": [
    "```python\n",
    "# Create the measurement file of your simio object, and get the path.\n",
    "mod_ms = get_mod_ms_ft(simobj)\n",
    "\n",
    "# Add noise\n",
    "add_noise(mod_ms, level='10.2mJy')\n",
    "\n",
    "# Create a mask for your system, and one to measure the residuals\n",
    "mask_obj = simobj.get_mask(mask_semimajor=0.52, inc=29., pa=45.7)\n",
    "mask_res = simobj.get_residual_mask()\n",
    "\n",
    "# Generate image for your simio object.\n",
    "easy_mod_tclean(simobj, interactive=True, manual_threshold='4.8e-02mJy')\n",
    "```"
   ]
  },
  {
   "cell_type": "markdown",
   "metadata": {},
   "source": [
    "The noise level included will return an image noise of about 0.019mJy/beam, which is similar to DSHARP observations.\n",
    "\n",
    "The 100pc can be changed to any distance you want. In the next figure, we show the Solar System reconstructed with SIMIO at distances ranging from 100pc to 800pc. You will need an individual project for each one of those synthetic observations."
   ]
  },
  {
   "cell_type": "markdown",
   "metadata": {},
   "source": [
    "## Image "
   ]
  },
  {
   "cell_type": "markdown",
   "metadata": {},
   "source": [
    "<img src=\"./solars_dist.png\">"
   ]
  },
  {
   "cell_type": "markdown",
   "metadata": {},
   "source": [
    "SIMIO also returns the original model used to calculate the visibilities, which was scaled to the specified distance following the inverse square law. Here you can check the reconstructed images against the original model:"
   ]
  },
  {
   "cell_type": "markdown",
   "metadata": {},
   "source": [
    "<img src=\"./solars_dist_models.png\">"
   ]
  },
  {
   "cell_type": "markdown",
   "metadata": {},
   "source": [
    "You can see that the noise level makes it very challenging to recover the inner cavity ring of the Solar System. You can try changing the noise level and analyze the observation in the visibilities, to see what kind of observation you would need to recover such feature."
   ]
  }
 ],
 "metadata": {
  "kernelspec": {
   "display_name": "Python 3",
   "language": "python",
   "name": "python3"
  },
  "language_info": {
   "codemirror_mode": {
    "name": "ipython",
    "version": 3
   },
   "file_extension": ".py",
   "mimetype": "text/x-python",
   "name": "python",
   "nbconvert_exporter": "python",
   "pygments_lexer": "ipython3",
   "version": "3.7.3"
  }
 },
 "nbformat": 4,
 "nbformat_minor": 4
}
