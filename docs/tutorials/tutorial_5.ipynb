{
 "cells": [
  {
   "cell_type": "markdown",
   "metadata": {},
   "source": [
    "# Tutorial 5: Change the flux of your source"
   ]
  },
  {
   "cell_type": "markdown",
   "metadata": {},
   "source": [
    "Sometimes a radiative transfer model will give you the correct contrast between emitting regions, but fine tuning the total flux to match an observation can be challenging. *SIMIO* allows you to set the observed flux of your source, independently from the distance at which the source is located."
   ]
  },
  {
   "cell_type": "markdown",
   "metadata": {},
   "source": [
    "## Changing the observed flux of your observation\n",
    "\n",
    "The observed flux can be changed directly when setting up the *simobj*. Let us begin by importing the *SIMIO* functions."
   ]
  },
  {
   "cell_type": "markdown",
   "metadata": {},
   "source": [
    "```python\n",
    "# Import needed python packages\n",
    "import sys\n",
    "import os\n",
    "import numpy as np\n",
    "import matplotlib.pyplot as plt\n",
    "\n",
    "# Get the current directory path\n",
    "current_dir = os.getcwd()+'/'\n",
    "\n",
    "####################################\n",
    "\n",
    "# Import the analysis utils functions\n",
    "sys.path.append(current_dir+'codes/analysis_scripts/')\n",
    "import analysisUtils as au\n",
    "\n",
    "# Import the simio object\n",
    "execfile(current_dir+'codes/simio_obj.py')\n",
    "# Import functions for uv-handling\n",
    "execfile(current_dir+'codes/simio_ms2ascii.py')\n",
    "# Import functions for imaging\n",
    "execfile(current_dir+'codes/simio_clean.py')\n",
    "\n",
    "```"
   ]
  },
  {
   "cell_type": "markdown",
   "metadata": {},
   "source": [
    "and now let us create the *simobj* with a specific flux."
   ]
  },
  {
   "cell_type": "markdown",
   "metadata": {},
   "source": [
    "```python\n",
    "# Create a simio object.\n",
    "simobj = simio_object(object_name  = 'SolarS_100pc', \n",
    "                      im_file_name = 'image_1300micron.out', \n",
    "                      template     = 'HD163296', \n",
    "                      rescale_flux = 0.080)\n",
    "```"
   ]
  },
  {
   "cell_type": "markdown",
   "metadata": {},
   "source": [
    "The parameter *rescale_flux* receives the desired observed flux at the distance of the source in units of mJy. The model will be scaled to match this value before the Fourier Transform is calculated."
   ]
  },
  {
   "cell_type": "markdown",
   "metadata": {},
   "source": [
    "```python\n",
    "# Create the measurement file of your simio object, and get the path.\n",
    "mod_ms = get_mod_ms_ft(simobj)\n",
    "\n",
    "# Add noise\n",
    "add_noise(mod_ms, level='10.2mJy')\n",
    "\n",
    "# Create a mask for your system, and one to measure the residuals\n",
    "mask_obj = simobj.get_mask(mask_semimajor=0.65)\n",
    "mask_res = simobj.get_residual_mask()\n",
    "\n",
    "# Generate image for your simio object.\n",
    "easy_mod_tclean(simobj, interactive=True, manual_threshold='5.7e-02mJy')\n",
    "```"
   ]
  },
  {
   "cell_type": "markdown",
   "metadata": {},
   "source": [
    "Here we are cleaning the image until we reach a treshold of 3 sigma. The rescaled image will have a flux of 80mJy, higher than the nominal flux of 41mJy when the image has no rescaling applied."
   ]
  },
  {
   "cell_type": "markdown",
   "metadata": {},
   "source": [
    "<img src=\"./solars_flux.png\">"
   ]
  }
 ],
 "metadata": {
  "kernelspec": {
   "display_name": "Python 3",
   "language": "python",
   "name": "python3"
  },
  "language_info": {
   "codemirror_mode": {
    "name": "ipython",
    "version": 3
   },
   "file_extension": ".py",
   "mimetype": "text/x-python",
   "name": "python",
   "nbconvert_exporter": "python",
   "pygments_lexer": "ipython3",
   "version": "3.7.3"
  }
 },
 "nbformat": 4,
 "nbformat_minor": 4
}
