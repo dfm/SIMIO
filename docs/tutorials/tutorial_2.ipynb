{
 "cells": [
  {
   "cell_type": "markdown",
   "metadata": {},
   "source": [
    "# Tutorial 2: Modify a model geometry\n",
    "\n",
    "**Download this tutorial contents from** [here](https://keeper.mpdl.mpg.de/d/ba7b48f04a95464091e9/)**, including the project, models and script.**\n",
    "\n",
    "The radiative transfer model of a disk can be dependent on the inclination of the disk relative to the observer's line of sight. In the previous tutorial, the initial model was face-on, and *SIMIO* later modified the geometry (inclination and position angle), which is only correct if we assume that the changes in inclination will conserve the flux.\n",
    "\n",
    "It is also possible to change individual geometrical parameters or change none. In this tutorial, we want to compare a disk from Garate et al. (subm.) with Elias 24 without changing the inclination but modifying the position angle.\n",
    "\n",
    "## An inclined disk model\n",
    "\n",
    "The model of the disk was generated with the same inclination of Elias 24 and with a semi-major axis along the x-axis. We would like to have the disk with the same position angle as Elias 24."
   ]
  },
  {
   "cell_type": "markdown",
   "metadata": {},
   "source": [
    "<img src=\"./photo13_original.png\">"
   ]
  },
  {
   "cell_type": "markdown",
   "metadata": {},
   "source": [
    "## Create SIMIO object\n",
    "\n",
    "First of all, load the codes for SIMIO"
   ]
  },
  {
   "cell_type": "markdown",
   "metadata": {},
   "source": [
    "```python\n",
    "# Import needed python packages\n",
    "import sys\n",
    "import os\n",
    "import numpy as np\n",
    "import matplotlib.pyplot as plt\n",
    "\n",
    "# Get the current directory path\n",
    "current_dir = os.getcwd()+'/'\n",
    "\n",
    "####################################\n",
    "\n",
    "# Import the analysis utils functions\n",
    "sys.path.append(current_dir+'codes/analysis_scripts/')\n",
    "import analysisUtils as au\n",
    "\n",
    "# Import the simio object\n",
    "execfile(current_dir+'codes/simio_obj.py')\n",
    "# Import functions for uv-handling\n",
    "execfile(current_dir+'codes/simio_ms2ascii.py')\n",
    "# Import functions for imaging\n",
    "execfile(current_dir+'codes/simio_clean.py')\n",
    "```"
   ]
  },
  {
   "cell_type": "markdown",
   "metadata": {},
   "source": [
    "Now, we will create the SIMIO object. Here, the name of the project is \"*photo_elias24_13*\". We want to use the observation of Elias 24 as a template, but we do not want to use the template geometry. Therefore, we set *use_tempgeom* to False, and we tell SIMIO to add the model a position angle to match the one of Elias 24.\n",
    "\n",
    "After that, we generate the observation with *get_mod_ms_ft*."
   ]
  },
  {
   "cell_type": "markdown",
   "metadata": {},
   "source": [
    "```python\n",
    "# Create a simio object.\n",
    "simobj = simio_object(object_name  = 'photo_elias24_13', \n",
    "                      im_file_name = 'continuum_13_inc29.out', \n",
    "                      template     = 'Elias24', \n",
    "                      add_pa       = 45.7+90, \n",
    "                      use_tempgeom = False)\n",
    "\n",
    "# Create the measurement file of your simio object, and get the path.\n",
    "# Can take several minutes\n",
    "mod_ms = get_mod_ms_ft(simobj)\n",
    "```"
   ]
  },
  {
   "cell_type": "markdown",
   "metadata": {},
   "source": [
    "## Generate the images\n",
    "\n",
    "With the observation already created, now the only thing left is to generate the images. We will create an elliptical mask slightly larger than the size of our model (0.52arcsec of radius) and with the geometry of Elias24.\n",
    "\n",
    "After setting the masks, *easy_mod_tclean* will generate the images."
   ]
  },
  {
   "cell_type": "markdown",
   "metadata": {},
   "source": [
    "```python\n",
    "# Create a mask for your system, and one to measure the residuals\n",
    "mask_obj = simobj.get_mask(mask_semimajor=0.52, inc=29., pa=45.7)\n",
    "mask_res = simobj.get_residual_mask()\n",
    "\n",
    "# Generate image for your simio object.\n",
    "# Can take several minutes, maybe an hour. Depends on your computer\n",
    "easy_mod_tclean(simobj, interactive=True)\n",
    "```"
   ]
  },
  {
   "cell_type": "markdown",
   "metadata": {},
   "source": [
    "<img src=\"./Photoevaporation_Elias24_comparison.png\">"
   ]
  }
 ],
 "metadata": {
  "kernelspec": {
   "display_name": "Python 3",
   "language": "python",
   "name": "python3"
  },
  "language_info": {
   "codemirror_mode": {
    "name": "ipython",
    "version": 3
   },
   "file_extension": ".py",
   "mimetype": "text/x-python",
   "name": "python",
   "nbconvert_exporter": "python",
   "pygments_lexer": "ipython3",
   "version": "3.7.3"
  }
 },
 "nbformat": 4,
 "nbformat_minor": 4
}
