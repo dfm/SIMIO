{
 "cells": [
  {
   "cell_type": "markdown",
   "metadata": {},
   "source": [
    "# Tutorial 2: Add noise to your observation"
   ]
  },
  {
   "cell_type": "markdown",
   "metadata": {},
   "source": [
    "Observational noise is a fundamental property to take into account when generating predictions and comparing the detectability of different models. The CASA software has algorithms to include simple thermal noise, which are compatible with the SIMIO generated measurement sets."
   ]
  },
  {
   "cell_type": "markdown",
   "metadata": {},
   "source": [
    "## Include thermal noise in your observation\n",
    "\n",
    "We will start from the same model as in the tutorial 2."
   ]
  },
  {
   "cell_type": "markdown",
   "metadata": {},
   "source": [
    "<img src=\"./photo13_original.png\">"
   ]
  },
  {
   "cell_type": "markdown",
   "metadata": {},
   "source": [
    "## Create SIMIO-continuum object\n",
    "\n",
    "Load the codes for SIMIO-continuum and rotate the model to match the position angle of Elias24"
   ]
  },
  {
   "cell_type": "markdown",
   "metadata": {},
   "source": [
    "```python\n",
    "# Import needed python packages\n",
    "import sys\n",
    "import os\n",
    "import numpy as np\n",
    "import matplotlib.pyplot as plt\n",
    "\n",
    "# Get the current directory path\n",
    "current_dir = os.getcwd()+'/'\n",
    "\n",
    "####################################\n",
    "\n",
    "# Import the analysis utils functions\n",
    "sys.path.append(current_dir+'codes/analysis_scripts/')\n",
    "import analysisUtils as au\n",
    "\n",
    "# Import the simio object\n",
    "execfile(current_dir+'codes/simio_obj.py')\n",
    "# Import functions for uv-handling\n",
    "execfile(current_dir+'codes/simio_ms2ascii.py')\n",
    "# Import functions for imaging\n",
    "execfile(current_dir+'codes/simio_clean.py')\n",
    "\n",
    "####################################\n",
    "\n",
    "# Create a simio object.\n",
    "simobj = simio_object(object_name  = 'photo_elias24_13', \n",
    "                      im_file_name = 'continuum_13_inc29.out', \n",
    "                      template     = 'Elias24', \n",
    "                      add_pa       = 45.7+90, \n",
    "                      use_tempgeom = False)\n",
    "\n",
    "# Create the measurement file of your simio object, and get the path.\n",
    "# Can take several minutes\n",
    "mod_ms = get_mod_ms_ft(simobj)\n",
    "```"
   ]
  },
  {
   "cell_type": "markdown",
   "metadata": {},
   "source": [
    "The function *get_mod_ms_ft* generated the observation. Now, we will use *addnoise_wrapper* to add thermal noise into your observation. This *SIMIO* function is just a wrapper of *sm.setnoise* from CASA, and we refer you to that function for further details."
   ]
  },
  {
   "cell_type": "markdown",
   "metadata": {},
   "source": [
    "```python\n",
    "# Add thermal noise\n",
    "mod_ms_noise = add_noise(mod_ms, level='10.2mJy')\n",
    "```"
   ]
  },
  {
   "cell_type": "markdown",
   "metadata": {},
   "source": [
    "The function *add_noise* will generate a new measurement set with noise. If you re-run *add_noise*, any previous measurement set with noise will be deleted and replaced with the latest run.\n",
    "\n",
    "Be careful with your level input. The number you give in *level* is directly passed to *sm.setnoise*, and is not exactly the same you will get as background rms in your reconstructed image. You will probably need to try a couple of times before finding the correct input number that will return the desired noise level."
   ]
  },
  {
   "cell_type": "markdown",
   "metadata": {},
   "source": [
    "## Generate the images\n",
    "\n",
    "The images are generated in the same way as the noiseless images. Just run *easy_mod_tclean* as we did in the previous tutorials."
   ]
  },
  {
   "cell_type": "markdown",
   "metadata": {},
   "source": [
    "```python\n",
    "# Create a mask for your system, and one to measure the residuals\n",
    "mask_obj = simobj.get_mask(mask_semimajor=0.52, inc=29., pa=45.7)\n",
    "mask_res = simobj.get_residual_mask()\n",
    "\n",
    "# Generate image for your simio object.\n",
    "# Can take several minutes, maybe an hour. Depends on your computer\n",
    "easy_mod_tclean(simobj, interactive=True)\n",
    "```"
   ]
  },
  {
   "cell_type": "markdown",
   "metadata": {},
   "source": [
    "<img src=\"./Photoevaporation_Elias24_comparison.png\">"
   ]
  }
 ],
 "metadata": {
  "kernelspec": {
   "display_name": "Python 3",
   "language": "python",
   "name": "python3"
  },
  "language_info": {
   "codemirror_mode": {
    "name": "ipython",
    "version": 3
   },
   "file_extension": ".py",
   "mimetype": "text/x-python",
   "name": "python",
   "nbconvert_exporter": "python",
   "pygments_lexer": "ipython3",
   "version": "3.7.3"
  }
 },
 "nbformat": 4,
 "nbformat_minor": 4
}
